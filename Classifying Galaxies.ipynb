{
 "cells": [
  {
   "cell_type": "code",
   "execution_count": null,
   "metadata": {},
   "outputs": [],
   "source": [
    "import tensorflow as tf\n",
    "from tensorflow.keras.preprocessing.image import ImageDataGenerator\n",
    "\n",
    "from sklearn.model_selection import train_test_split\n",
    "from utils import load_galaxy_data\n",
    "\n",
    "from visualize import visualize_activations\n",
    "\n",
    "import app\n",
    "\n",
    "\n",
    "input_data, labels = load_galaxy_data()\n",
    "\n",
    "print(input_data.shape)\n",
    "print(labels.shape)\n",
    "\n",
    "input_data_train, input_data_valid, labels_train, labels_valid = train_test_split(input_data, labels, test_size=0.20, random_state=222, shuffle=True, stratify=labels)\n",
    "\n",
    "data_generator = ImageDataGenerator(rescale=1./255)\n",
    "\n",
    "training_iterator = data_generator.flow(input_data, labels,batch_size=5)\n",
    "validation_iterator = data_generator.flow(input_data, labels,batch_size=5)\n",
    "\n",
    "model = tf.keras.Sequential()\n",
    "\n",
    "model.add(tf.keras.Input(shape=(128,128,3)))\n",
    "\n",
    "\n",
    "\n",
    "model.add(tf.keras.layers.Conv2D(8,3,strides=2,padding=\"valid\",activation=\"relu\"))\n",
    "\n",
    "max_pool_2d = tf.keras.layers.MaxPooling2D(pool_size = (2,2), strides = (2,2))\n",
    "model.add(max_pool_2d)\n",
    "\n",
    "model.add(tf.keras.layers.Conv2D(8,3,strides=2,padding=\"valid\",activation=\"relu\"))\n",
    "\n",
    "max_pool_2d = tf.keras.layers.MaxPooling2D(pool_size = (2,2), strides = (2,2))\n",
    "model.add(max_pool_2d)\n",
    "\n",
    "model.add(tf.keras.layers.Flatten())\n",
    "\n",
    "model.add(tf.keras.layers.Dense(16,activation=\"relu\"))\n",
    "\n",
    "model.add(tf.keras.layers.Dense(4, activation='softmax'))\n",
    "\n",
    "print(model.summary())\n",
    "\n",
    "model.compile(\n",
    "  optimizer=tf.keras.optimizers.Adam(learning_rate=0.1),\n",
    "  loss=tf.keras.losses.CategoricalCrossentropy(), metrics=[tf.keras.metrics.CategoricalAccuracy(), tf.keras.metrics.AUC()])\n",
    "\n",
    "model.fit(training_iterator, steps_per_epoch=len(input_data_train)/5, epochs=8, validation_data=validation_iterator, validation_steps=len(input_data_valid)/5)\n",
    "\n",
    "visualize_activations(model,validation_iterator)\n"
   ]
  }
 ],
 "metadata": {
  "kernelspec": {
   "display_name": "Python 3",
   "language": "python",
   "name": "python3"
  },
  "language_info": {
   "codemirror_mode": {
    "name": "ipython",
    "version": 3
   },
   "file_extension": ".py",
   "mimetype": "text/x-python",
   "name": "python",
   "nbconvert_exporter": "python",
   "pygments_lexer": "ipython3",
   "version": "3.7.3"
  }
 },
 "nbformat": 4,
 "nbformat_minor": 2
}
